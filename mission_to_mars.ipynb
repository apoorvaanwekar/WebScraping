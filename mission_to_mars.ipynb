{
 "cells": [
  {
   "cell_type": "code",
   "execution_count": 67,
   "metadata": {
    "collapsed": true
   },
   "outputs": [],
   "source": [
    "# import dependencies\n",
    "import pandas as pd\n",
    "from bs4 import BeautifulSoup as bs\n",
    "import requests as req\n",
    "import re\n",
    "from splinter import Browser\n",
    "import nbconvert"
   ]
  },
  {
   "cell_type": "code",
   "execution_count": 68,
   "metadata": {
    "collapsed": true
   },
   "outputs": [],
   "source": [
    "## NASA Mars News\n",
    "# assign mars news site html to variable\n",
    "mars_news = 'https://mars.nasa.gov/news/'\n",
    "\n",
    "# Retrieve page with the requests module\n",
    "response = req.get(mars_news)\n",
    "mars_beautifulsoup = bs(response.text, \"html.parser\")"
   ]
  },
  {
   "cell_type": "code",
   "execution_count": 69,
   "metadata": {},
   "outputs": [
    {
     "name": "stdout",
     "output_type": "stream",
     "text": [
      "NASA Invests in Visionary Technology\n"
     ]
    }
   ],
   "source": [
    "# find mars news title \n",
    "news_title = mars_beautifulsoup.find('div', class_='content_title')\n",
    "news_title = news_title.text.strip()\n",
    "print(news_title)"
   ]
  },
  {
   "cell_type": "code",
   "execution_count": 70,
   "metadata": {},
   "outputs": [
    {
     "name": "stdout",
     "output_type": "stream",
     "text": [
      "NASA is investing in technology concepts, including several from JPL, that may one day be used for future space exploration missions.\n"
     ]
    }
   ],
   "source": [
    "# find mars news paragraph \n",
    "news_para = mars_beautifulsoup.find('div', class_='rollover_description_inner')\n",
    "news_para = news_para.text.strip()\n",
    "print(news_para)"
   ]
  },
  {
   "cell_type": "code",
   "execution_count": 71,
   "metadata": {},
   "outputs": [
    {
     "name": "stdout",
     "output_type": "stream",
     "text": [
      "https://www.jpl.nasa.gov/spaceimages/images/mediumsize/PIA19974_ip.jpg\n"
     ]
    }
   ],
   "source": [
    "## JPL Mars Space Images - Featured Image\n",
    "# assign jpl url to variable\n",
    "jpl_url = 'https://www.jpl.nasa.gov/spaceimages/?search=&category=Mars'\n",
    "\n",
    "browser = Browser('chrome', headless=False)\n",
    "browser.visit(jpl_url)\n",
    "\n",
    "browser.click_link_by_partial_text('FULL IMAGE')\n",
    "jpl_html = browser.html\n",
    "jpl_beautifulsoup = bs(jpl_html, 'html.parser')\n",
    "\n",
    "jpl_links = jpl_beautifulsoup.find('div', class_=\"carousel_items\")\n",
    "jpl_tag = jpl_links.find('a', class_='button fancybox')\n",
    "jpl_url_link = \"https://www.jpl.nasa.gov\" + tag.get('data-fancybox-href')\n",
    "print(jpl_url_link)"
   ]
  },
  {
   "cell_type": "code",
   "execution_count": 72,
   "metadata": {},
   "outputs": [
    {
     "name": "stdout",
     "output_type": "stream",
     "text": [
      " Meet Dr Sarah Milkovich (@milkysa), lead of Science Operations for Mars 2020 @NASAJPL. Milkovich was responsible for the MRO HiRISE  of the surface of Mars in 2012. New @Wikipedia page: https://en.wikipedia.org/wiki/Sarah_Milkovich … #womeninSTEMpic.twitter.com/Kqz4Bpc9e2\n"
     ]
    }
   ],
   "source": [
    "## MARS WEATHER\n",
    "# assign mars twitter url to variable\n",
    "mars_twitter = 'https://twitter.com/marswxreport?lang=en'\n",
    "response = req.get(mars_twitter)\n",
    "mars_tweet_beutifulsoup = bs(response.text, \"html.parser\")\n",
    "\n",
    "mars_tweet = mars_tweet_beutifulsoup.find('p', class_='TweetTextSize TweetTextSize--normal js-tweet-text tweet-text')\n",
    "\n",
    "mars_tweet_text = mars_tweet.text\n",
    "print(mars_tweet_text)"
   ]
  },
  {
   "cell_type": "code",
   "execution_count": 73,
   "metadata": {},
   "outputs": [
    {
     "data": {
      "text/html": [
       "<div>\n",
       "<style>\n",
       "    .dataframe thead tr:only-child th {\n",
       "        text-align: right;\n",
       "    }\n",
       "\n",
       "    .dataframe thead th {\n",
       "        text-align: left;\n",
       "    }\n",
       "\n",
       "    .dataframe tbody tr th {\n",
       "        vertical-align: top;\n",
       "    }\n",
       "</style>\n",
       "<table border=\"1\" class=\"dataframe\">\n",
       "  <thead>\n",
       "    <tr style=\"text-align: right;\">\n",
       "      <th></th>\n",
       "      <th>fact_title</th>\n",
       "      <th>fact_value</th>\n",
       "    </tr>\n",
       "  </thead>\n",
       "  <tbody>\n",
       "    <tr>\n",
       "      <th>0</th>\n",
       "      <td>Equatorial Diameter:</td>\n",
       "      <td>6,792 km</td>\n",
       "    </tr>\n",
       "    <tr>\n",
       "      <th>1</th>\n",
       "      <td>Polar Diameter:</td>\n",
       "      <td>6,752 km</td>\n",
       "    </tr>\n",
       "    <tr>\n",
       "      <th>2</th>\n",
       "      <td>Mass:</td>\n",
       "      <td>6.42 x 10^23 kg (10.7% Earth)</td>\n",
       "    </tr>\n",
       "    <tr>\n",
       "      <th>3</th>\n",
       "      <td>Moons:</td>\n",
       "      <td>2 (Phobos &amp; Deimos)</td>\n",
       "    </tr>\n",
       "    <tr>\n",
       "      <th>4</th>\n",
       "      <td>Orbit Distance:</td>\n",
       "      <td>227,943,824 km (1.52 AU)</td>\n",
       "    </tr>\n",
       "    <tr>\n",
       "      <th>5</th>\n",
       "      <td>Orbit Period:</td>\n",
       "      <td>687 days (1.9 years)</td>\n",
       "    </tr>\n",
       "    <tr>\n",
       "      <th>6</th>\n",
       "      <td>Surface Temperature:</td>\n",
       "      <td>-153 to 20 °C</td>\n",
       "    </tr>\n",
       "    <tr>\n",
       "      <th>7</th>\n",
       "      <td>First Record:</td>\n",
       "      <td>2nd millennium BC</td>\n",
       "    </tr>\n",
       "    <tr>\n",
       "      <th>8</th>\n",
       "      <td>Recorded By:</td>\n",
       "      <td>Egyptian astronomers</td>\n",
       "    </tr>\n",
       "  </tbody>\n",
       "</table>\n",
       "</div>"
      ],
      "text/plain": [
       "             fact_title                     fact_value\n",
       "0  Equatorial Diameter:                       6,792 km\n",
       "1       Polar Diameter:                       6,752 km\n",
       "2                 Mass:  6.42 x 10^23 kg (10.7% Earth)\n",
       "3                Moons:            2 (Phobos & Deimos)\n",
       "4       Orbit Distance:       227,943,824 km (1.52 AU)\n",
       "5         Orbit Period:           687 days (1.9 years)\n",
       "6  Surface Temperature:                  -153 to 20 °C\n",
       "7         First Record:              2nd millennium BC\n",
       "8          Recorded By:           Egyptian astronomers"
      ]
     },
     "execution_count": 73,
     "metadata": {},
     "output_type": "execute_result"
    }
   ],
   "source": [
    "## MARS FACTS\n",
    "# assign url to variable\n",
    "mars_facts_url = 'https://space-facts.com/mars/'\n",
    "\n",
    "# read html tables into dataframes list\n",
    "mars_facts_tables = pd.read_html(mars_facts_url)\n",
    "\n",
    "# assign mars facts table to variable\n",
    "mars_facts_df = mars_facts_tables[0]\n",
    "mars_facts_df.columns = ['fact_title','fact_value']\n",
    "mars_facts_df\n"
   ]
  },
  {
   "cell_type": "code",
   "execution_count": 74,
   "metadata": {},
   "outputs": [],
   "source": [
    "#convert df to html\n",
    "mars_facts_df.to_html('mars_facts.html', index=False)"
   ]
  },
  {
   "cell_type": "code",
   "execution_count": 75,
   "metadata": {},
   "outputs": [
    {
     "data": {
      "text/plain": [
       "[{'name': 'Cerberus Hemisphere Enhanced',\n",
       "  'url': '/cache/images/cfa62af2557222a02478f1fcd781d445_cerberus_enhanced.tif_full.jpg'},\n",
       " {'name': 'Schiaparelli Hemisphere Enhanced',\n",
       "  'url': '/cache/images/3cdd1cbf5e0813bba925c9030d13b62e_schiaparelli_enhanced.tif_full.jpg'},\n",
       " {'name': 'Syrtis Major Hemisphere Enhanced',\n",
       "  'url': '/cache/images/ae209b4e408bb6c3e67b6af38168cf28_syrtis_major_enhanced.tif_full.jpg'},\n",
       " {'name': 'Valles Marineris Hemisphere Enhanced',\n",
       "  'url': '/cache/images/7cf2da4bf549ed01c17f206327be4db7_valles_marineris_enhanced.tif_full.jpg'}]"
      ]
     },
     "execution_count": 75,
     "metadata": {},
     "output_type": "execute_result"
    }
   ],
   "source": [
    "##Mars Hemisperes\n",
    "\n",
    "# assign hemispheres url to variable\n",
    "mars_hemispheres_url = 'https://astrogeology.usgs.gov/search/results?q=hemisphere+enhanced&k1=target&v1=Mars'\n",
    "mars_response = req.get(mars_hemispheres_url)\n",
    "mars_hem_beautifulsoup = bs(mars_response.text, 'html.parser')\n",
    "\n",
    "# find all image lists\n",
    "image_urls_list = mars_hem_beautifulsoup.find_all('a', class_=\"itemLink\")\n",
    "# open browser\n",
    "browser1 = Browser('chrome', headless=False)\n",
    "# initialize hemisphere images\n",
    "hemisphere_images = []\n",
    "\n",
    "# loop over all images in the list\n",
    "for image in image_urls_list:\n",
    "    #extract hemisphere name \n",
    "    hemi_name = image.h3.text\n",
    "    \n",
    "    #vist the mars page\n",
    "    browser1.visit(mars_hemispheres_url)\n",
    "    \n",
    "    #go to the hemisphere image page\n",
    "    browser1.click_link_by_partial_text(hemi_name)\n",
    "    \n",
    "    # extract html from the browser\n",
    "    image_html = browser1.html\n",
    "    \n",
    "    # create beautifulsoup object from the source\n",
    "    mars_tweet_beutifulsoup = bs(image_html, \"html.parser\")\n",
    "    \n",
    "    # find the full image from the page\n",
    "    full_image = mars_tweet_beutifulsoup.find('img', class_=\"wide-image\")\n",
    "    \n",
    "    # get the src url\n",
    "    full_image_url = full_image['src']\n",
    "    \n",
    "    # store name/url in dict\n",
    "    image_dict = {}\n",
    "    image_dict['name'] = hemi_name\n",
    "    image_dict['url'] = full_image_url\n",
    "    # append dict to list\n",
    "    hemisphere_images.append(image_dict)\n",
    "\n",
    "hemisphere_images"
   ]
  },
  {
   "cell_type": "code",
   "execution_count": 79,
   "metadata": {},
   "outputs": [
    {
     "name": "stdout",
     "output_type": "stream",
     "text": [
      "[NbConvertApp] Converting notebook mission_to_mars.ipynb to script\n",
      "[NbConvertApp] Writing 3684 bytes to scrape_mars.py\n"
     ]
    }
   ],
   "source": [
    "#convert the notebook to script \n",
    "! jupyter nbconvert --to script --template basic mission_to_mars.ipynb --output scrape_mars"
   ]
  },
  {
   "cell_type": "code",
   "execution_count": null,
   "metadata": {
    "collapsed": true
   },
   "outputs": [],
   "source": []
  }
 ],
 "metadata": {
  "kernelspec": {
   "display_name": "Python 3",
   "language": "python",
   "name": "python3"
  },
  "language_info": {
   "codemirror_mode": {
    "name": "ipython",
    "version": 3
   },
   "file_extension": ".py",
   "mimetype": "text/x-python",
   "name": "python",
   "nbconvert_exporter": "python",
   "pygments_lexer": "ipython3",
   "version": "3.6.2"
  }
 },
 "nbformat": 4,
 "nbformat_minor": 2
}
